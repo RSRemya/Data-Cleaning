{
 "cells": [
  {
   "cell_type": "markdown",
   "id": "a696d9a4",
   "metadata": {},
   "source": [
    "# Import Libraries"
   ]
  },
  {
   "cell_type": "code",
   "execution_count": 1,
   "id": "358a2fc0",
   "metadata": {},
   "outputs": [],
   "source": [
    "import numpy as np\n",
    "import pandas as pd"
   ]
  },
  {
   "cell_type": "markdown",
   "id": "b18c6807",
   "metadata": {},
   "source": [
    "# Making a Dataset"
   ]
  },
  {
   "cell_type": "code",
   "execution_count": 2,
   "id": "ec250f19",
   "metadata": {},
   "outputs": [],
   "source": [
    "df_list= pd.DataFrame({'Roll_Number':[11, 14, 21, 24],\n",
    "                  'Name':['Surya Chandra','Hamza Sheik','Jenifer Jos','Gurpreet Kaur'],\n",
    "                  'Age' :[34, 28, 24, 39],\n",
    "                  'gmail' :['unni@gmail.com', 'hamz@yahoo.com', 'jeny@gmail.com', 'guddi@gmail.com'],\n",
    "                  'Subjects':['Data Analysis','Data Science','Data Engineering','Data Mining']})"
   ]
  },
  {
   "cell_type": "code",
   "execution_count": 3,
   "id": "c9e4f750",
   "metadata": {},
   "outputs": [
    {
     "name": "stdout",
     "output_type": "stream",
     "text": [
      "   Roll_Number           Name  Age            gmail          Subjects\n",
      "0           11  Surya Chandra   34   unni@gmail.com     Data Analysis\n",
      "1           14    Hamza Sheik   28   hamz@yahoo.com      Data Science\n",
      "2           21    Jenifer Jos   24   jeny@gmail.com  Data Engineering\n",
      "3           24  Gurpreet Kaur   39  guddi@gmail.com       Data Mining\n"
     ]
    }
   ],
   "source": [
    "print(df_list)"
   ]
  },
  {
   "cell_type": "code",
   "execution_count": 4,
   "id": "c9aa8768",
   "metadata": {},
   "outputs": [
    {
     "name": "stdout",
     "output_type": "stream",
     "text": [
      "          0        1\n",
      "0     Surya  Chandra\n",
      "1     Hamza    Sheik\n",
      "2   Jenifer      Jos\n",
      "3  Gurpreet     Kaur\n"
     ]
    }
   ],
   "source": [
    "df2 = df_list.Name.str.split(expand=True)  \n",
    "print(df2)"
   ]
  },
  {
   "cell_type": "code",
   "execution_count": 5,
   "id": "f6615e69",
   "metadata": {},
   "outputs": [
    {
     "data": {
      "text/html": [
       "<div>\n",
       "<style scoped>\n",
       "    .dataframe tbody tr th:only-of-type {\n",
       "        vertical-align: middle;\n",
       "    }\n",
       "\n",
       "    .dataframe tbody tr th {\n",
       "        vertical-align: top;\n",
       "    }\n",
       "\n",
       "    .dataframe thead th {\n",
       "        text-align: right;\n",
       "    }\n",
       "</style>\n",
       "<table border=\"1\" class=\"dataframe\">\n",
       "  <thead>\n",
       "    <tr style=\"text-align: right;\">\n",
       "      <th></th>\n",
       "      <th>First Name</th>\n",
       "      <th>Last Name</th>\n",
       "    </tr>\n",
       "  </thead>\n",
       "  <tbody>\n",
       "    <tr>\n",
       "      <th>0</th>\n",
       "      <td>Surya</td>\n",
       "      <td>Chandra</td>\n",
       "    </tr>\n",
       "    <tr>\n",
       "      <th>1</th>\n",
       "      <td>Hamza</td>\n",
       "      <td>Sheik</td>\n",
       "    </tr>\n",
       "    <tr>\n",
       "      <th>2</th>\n",
       "      <td>Jenifer</td>\n",
       "      <td>Jos</td>\n",
       "    </tr>\n",
       "    <tr>\n",
       "      <th>3</th>\n",
       "      <td>Gurpreet</td>\n",
       "      <td>Kaur</td>\n",
       "    </tr>\n",
       "  </tbody>\n",
       "</table>\n",
       "</div>"
      ],
      "text/plain": [
       "  First Name Last Name\n",
       "0      Surya   Chandra\n",
       "1      Hamza     Sheik\n",
       "2    Jenifer       Jos\n",
       "3   Gurpreet      Kaur"
      ]
     },
     "execution_count": 5,
     "metadata": {},
     "output_type": "execute_result"
    }
   ],
   "source": [
    "df2.columns = ['First Name', 'Last Name']\n",
    "df2"
   ]
  }
 ],
 "metadata": {
  "kernelspec": {
   "display_name": "Python 3 (ipykernel)",
   "language": "python",
   "name": "python3"
  },
  "language_info": {
   "codemirror_mode": {
    "name": "ipython",
    "version": 3
   },
   "file_extension": ".py",
   "mimetype": "text/x-python",
   "name": "python",
   "nbconvert_exporter": "python",
   "pygments_lexer": "ipython3",
   "version": "3.9.12"
  }
 },
 "nbformat": 4,
 "nbformat_minor": 5
}
